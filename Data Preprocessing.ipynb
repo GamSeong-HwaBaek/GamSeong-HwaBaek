{
 "cells": [
  {
   "cell_type": "code",
   "execution_count": 76,
   "id": "c490df25",
   "metadata": {},
   "outputs": [],
   "source": [
    "import pandas as pd\n",
    "import requests\n",
    "from tqdm import tqdm"
   ]
  },
  {
   "cell_type": "code",
   "execution_count": 77,
   "id": "b363bff8",
   "metadata": {},
   "outputs": [],
   "source": [
    "ag4 = pd.read_csv('./WikiArt-Emotions/WikiArt-Emotions-Ag4.tsv', sep='\\t')\n",
    "info = pd.read_csv('./WikiArt-Emotions/WikiArt-info.tsv', sep='\\t')"
   ]
  },
  {
   "cell_type": "code",
   "execution_count": 78,
   "id": "bf951f30",
   "metadata": {},
   "outputs": [],
   "source": [
    "def download(url, file_name = None):\n",
    "    with open(file_name, \"wb\") as file:\n",
    "        response = requests.get(url)\n",
    "        file.write(response.content)"
   ]
  },
  {
   "cell_type": "code",
   "execution_count": 116,
   "id": "e93347d8",
   "metadata": {
    "scrolled": true
   },
   "outputs": [
    {
     "name": "stdout",
     "output_type": "stream",
     "text": [
      "Downloading WikiArt Painting Images...\n"
     ]
    },
    {
     "name": "stderr",
     "output_type": "stream",
     "text": [
      "100%|█████████████████████████████████████| 4105/4105 [00:01<00:00, 2422.16it/s]\n"
     ]
    }
   ],
   "source": [
    "print(\"Downloading WikiArt Painting Images...\")\n",
    "\n",
    "for _id in tqdm(ag4['ID']):\n",
    "\n",
    "    url = info.loc[info['ID']==_id]['Image URL'].values[0]\n",
    "    download(url, './data/image/%s.jpg'%_id)\n",
    "    "
   ]
  },
  {
   "cell_type": "code",
   "execution_count": 150,
   "id": "b0298ade",
   "metadata": {},
   "outputs": [],
   "source": [
    "gratitude = [0.61, 0.10, -0.13]\n",
    "happiness = [0.81, 0.51, 0.46]\n",
    "humility = [-0.63, 0.43, -0.38]\n",
    "love = [0.82, 0.65, -0.05]\n",
    "optimism = [0.51, 0.23, 0.14]\n",
    "trust = [0.38, 0.13, -0.08]\n",
    "anger = [-0.51, 0.59, 0.25]\n",
    "arrogance = [0.00, 0.34, 0.48]\n",
    "disgust = [-0.60, 0.35, 0.11]\n",
    "fear = [-0.64, 0.60, -0.43]\n",
    "pessimism = [-0.61, -0.15, -0.29]\n",
    "regret = [-0.52, 0.02, -0.21]\n",
    "sadness = [-0.63, -0.27, -0.33]\n",
    "shame = [-0.57, 0.01, -0.34]\n",
    "agreeableness = [0.78, 0.25, 0.41]\n",
    "anticipation = [0.64, 0.51, 0.17]\n",
    "disagreeableness = [-0.55, 0.16, -0.05]\n",
    "surprise = [0.40, 0.67, -0.13]\n",
    "shyness = [-0.15, 0.06, -0.34]\n",
    "neutral = [0.79, -0.01, 0.33]"
   ]
  },
  {
   "cell_type": "code",
   "execution_count": 149,
   "id": "2666e48b",
   "metadata": {},
   "outputs": [],
   "source": [
    "ag4.to_csv(\"./clean.csv\", mode='w')"
   ]
  },
  {
   "cell_type": "code",
   "execution_count": 173,
   "id": "5df8af43",
   "metadata": {},
   "outputs": [],
   "source": [
    "import matplotlib.pyplot as plt\n",
    "import pandas as pd\n",
    "import seaborn as sns\n",
    "from mpl_toolkits.mplot3d import Axes3D"
   ]
  },
  {
   "cell_type": "code",
   "execution_count": 179,
   "id": "cb16c781",
   "metadata": {
    "scrolled": true
   },
   "outputs": [
    {
     "data": {
      "image/png": "[encoded data removed]",
      "text/plain": [
       "<Figure size 432x288 with 1 Axes>"
      ]
     },
     "metadata": {},
     "output_type": "display_data"
    }
   ],
   "source": [
    "sns.set(style = \"darkgrid\")\n",
    "\n",
    "fig = plt.figure()\n",
    "ax = fig.add_subplot(111, projection = '3d')\n",
    "\n",
    "ax.set_xlabel(\"P\")\n",
    "ax.set_ylabel(\"A\")\n",
    "ax.set_zlabel(\"D\")\n",
    "\n",
    "ax.scatter(gratitude[0],gratitude[1],gratitude[2], color='r')\n",
    "ax.scatter(happiness[0],happiness[1],happiness[2], color='r')\n",
    "ax.scatter(humility[0],humility[1],humility[2], color='r')\n",
    "ax.scatter(love[0],love[1],love[2], color='r')\n",
    "ax.scatter(optimism[0],optimism[1],optimism[2], color='r')\n",
    "ax.scatter(trust[0],trust[1],trust[2], color='r')\n",
    "\n",
    "ax.scatter(anger[0],anger[1],anger[2], color='b')\n",
    "ax.scatter(arrogance[0],arrogance[1],arrogance[2], color='b')\n",
    "ax.scatter(disgust[0],disgust[1],disgust[2], color='b')\n",
    "ax.scatter(fear[0],fear[1],fear[2], color='b')\n",
    "ax.scatter(pessimism[0],pessimism[1],pessimism[2], color='b')\n",
    "ax.scatter(regret[0],regret[1],regret[2], color='b')\n",
    "ax.scatter(sadness[0],sadness[1],sadness[2], color='b')\n",
    "ax.scatter(shame[0],shame[1],shame[2], color='b')\n",
    "\n",
    "ax.scatter(agreeableness[0],agreeableness[1],agreeableness[2], color='green')\n",
    "ax.scatter(anticipation[0],anticipation[1],anticipation[2], color='green')\n",
    "ax.scatter(disagreeableness[0],disagreeableness[1],disagreeableness[2], color='green')\n",
    "ax.scatter(surprise[0],surprise[1],surprise[2], color='green')\n",
    "ax.scatter(shyness[0],shyness[1],shyness[2], color='green')\n",
    "ax.scatter(neutral[0],neutral[1],neutral[2], color='green')\n",
    "\n",
    "\n",
    "plt.show()"
   ]
  },
  {
   "cell_type": "code",
   "execution_count": null,
   "id": "fee5ef26",
   "metadata": {},
   "outputs": [],
   "source": []
  }
 ],
 "metadata": {
  "kernelspec": {
   "display_name": "Python 3 (ipykernel)",
   "language": "python",
   "name": "python3"
  },
  "language_info": {
   "codemirror_mode": {
    "name": "ipython",
    "version": 3
   },
   "file_extension": ".py",
   "mimetype": "text/x-python",
   "name": "python",
   "nbconvert_exporter": "python",
   "pygments_lexer": "ipython3",
   "version": "3.8.12"
  }
 },
 "nbformat": 4,
 "nbformat_minor": 5
}
